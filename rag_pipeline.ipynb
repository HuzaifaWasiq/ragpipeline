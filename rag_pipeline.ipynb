{
  "cells": [
    {
      "cell_type": "markdown",
      "metadata": {},
      "source": [
        "# RAG Pipeline Notebook\n\nThis notebook shows a minimal, Colab-friendly pipeline to:\n\n- Load text files from `blogs/`\n- Chunk text\n- Create embeddings with `sentence-transformers` (all-MiniLM-L6-v2)\n- Build a FAISS index (or fallback)\n- Ask two sample questions\n\n(You can run the cells in order in Colab.)"
      ]
    },
    {
      "cell_type": "code",
      "metadata": {},
      "source": [
        "# Cell 1: Install packages (uncomment in Colab)\n# !pip install -q langchain==0.3.27 sentence-transformers faiss-cpu transformers torch streamlit\n\n"
      ]
    },
    {
      "cell_type": "code",
      "metadata": {},
      "source": [
        "from backend import ensure_index, get_answer\n\n# Build index (this calls ensure_index())\nensure_index()\n\n# Two sample questions and print their answers\nfor q in [\n    'What is energy mastery?',\n    'How do high performers avoid burnout?'\n]:\n    ans, srcs = get_answer(q)\n    print('Q:', q)\n    print('A:', ans[:600])\n    print('Sources:', ', '.join([s['source'] for s in srcs]))\n    print('\\n---\\n')\n"
      ]
    }
  ],
  "metadata": {
    "kernelspec": {
      "display_name": "Python 3",
      "language": "python",
      "name": "python3"
    },
    "language_info": {
      "name": "python"
    }
  },
  "nbformat": 4,
  "nbformat_minor": 5
}